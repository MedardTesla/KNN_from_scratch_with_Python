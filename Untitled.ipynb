{
 "cells": [
  {
   "cell_type": "code",
   "execution_count": null,
   "id": "cb8fde03-2d69-4262-9d52-b7d52bdeb5f9",
   "metadata": {},
   "outputs": [],
   "source": []
  },
  {
   "cell_type": "code",
   "execution_count": null,
   "id": "49ac9db3-4e77-4dd4-b1d5-859418529781",
   "metadata": {},
   "outputs": [],
   "source": []
  },
  {
   "cell_type": "code",
   "execution_count": 1,
   "id": "20ffc35b-e6be-4afa-98b6-767dd25ce627",
   "metadata": {},
   "outputs": [],
   "source": [
    "import numpy as np\n",
    "import matplotlib.pyplot as plt\n",
    "from collections import Counter\n",
    "from sklearn.datasets import make_moons\n",
    "from sklearn.datasets import make_regression\n",
    "\n",
    "from sklearn.metrics import accuracy_score\n",
    "from sklearn.metrics import r2_score"
   ]
  },
  {
   "cell_type": "markdown",
   "id": "8c03acbd-fe49-43b1-9827-ca73af3808d4",
   "metadata": {},
   "source": [
    "#### dataset creation"
   ]
  },
  {
   "cell_type": "code",
   "execution_count": 2,
   "id": "87039b07-7078-4f6d-bee5-2f0f478089d5",
   "metadata": {},
   "outputs": [],
   "source": [
    "X_train, y_train = make_moons(100, noise=0.05, random_state=42)\n",
    "X_test, y_test = make_moons(50, noise=0.12, random_state=42)"
   ]
  },
  {
   "cell_type": "code",
   "execution_count": 4,
   "id": "8d3d70cc-90ec-410d-a260-925511c59499",
   "metadata": {},
   "outputs": [
    {
     "data": {
      "text/plain": [
       "(100, 2)"
      ]
     },
     "execution_count": 4,
     "metadata": {},
     "output_type": "execute_result"
    }
   ],
   "source": [
    "X_train.shape"
   ]
  },
  {
   "cell_type": "code",
   "execution_count": 12,
   "id": "6f6886f8-e3c6-4849-8bf7-8d2e9923c2a8",
   "metadata": {},
   "outputs": [
    {
     "data": {
      "text/plain": [
       "<matplotlib.collections.PathCollection at 0x28797bea7d0>"
      ]
     },
     "execution_count": 12,
     "metadata": {},
     "output_type": "execute_result"
    },
    {
     "data": {
      "image/png": "[encoded data removed]",
      "text/plain": [
       "<Figure size 640x480 with 1 Axes>"
      ]
     },
     "metadata": {},
     "output_type": "display_data"
    }
   ],
   "source": [
    "plt.scatter(X_train[y_train==0][:,0], X_train[y_train==0][:,1], c='violet')\n",
    "plt.scatter(X_train[y_train==1][:,0], X_train[y_train==1][:,1], c='yellow')"
   ]
  },
  {
   "cell_type": "code",
   "execution_count": null,
   "id": "29113f10-9b0b-4ebe-a412-e8f65340787d",
   "metadata": {},
   "outputs": [],
   "source": []
  },
  {
   "cell_type": "code",
   "execution_count": 30,
   "id": "c8b39d42-fc37-41e9-a96d-a0ab709b90f5",
   "metadata": {},
   "outputs": [],
   "source": [
    "class KNNClassifier:\n",
    "    def __init__(self, k: int):\n",
    "        self.k = k \n",
    "        \n",
    "    def fit(self, x: np.ndarray, y: np.ndarray):\n",
    "        self.explanatory_variable = x\n",
    "        self.target_variable = y\n",
    "    @staticmethod\n",
    "    def euclidean_distance(a: np.ndarray, b: np.ndarray):\n",
    "        ''' calculates the distance between two vectors'''\n",
    "        return np.sqrt(np.sum(np.square(a-b)))\n",
    "    \n",
    "    def k_nearest_target_value(self, x: np.ndarray):\n",
    "        ''' '''\n",
    "        k_min_index = np.argsort(x)[:self.k]\n",
    "        return np.squeeze(self.target_variable[k_min_index])\n",
    "    \n",
    "    @staticmethod\n",
    "    def max_class(x: np.ndarray) -> np.ndarray:\n",
    "        ''' Return the most frequent class value in the vector x'''\n",
    "        count_class = Counter(x)\n",
    "        return max(count_class, key=count_class.get)\n",
    "    \n",
    "    def predict_class(self, x: np.ndarray) -> int:\n",
    "        ''' Predict the average of the k nearest target '''\n",
    "        # Compute the distance for every observations of our training dataset\n",
    "        distance_matrix = list(map(lambda var : KNNClassifier.euclidean_distance(x, var), self.explanatory_variable))\n",
    "        # Keep only the target value of the k nearest neighbors\n",
    "        k_target = self.k_nearest_target_value(distance_matrix)\n",
    "        # Return the most frequent target value\n",
    "        return KNNClassifier.max_class(k_target)\n",
    "    \n",
    "    def predict(self, x: np.ndarray) -> np.ndarray:\n",
    "        ''' Make predict of all the x dataset '''\n",
    "        return np.array(list(map(lambda var : self.predict_class(var), x)))"
   ]
  },
  {
   "cell_type": "code",
   "execution_count": 31,
   "id": "ebdc9d47-65d3-4b8c-b545-108f08744320",
   "metadata": {},
   "outputs": [],
   "source": [
    "knn = KNNClassifier(5)\n",
    "knn.fit(X_train, y_train)"
   ]
  },
  {
   "cell_type": "code",
   "execution_count": 32,
   "id": "5383ed49-2286-4161-8cba-f464059f301c",
   "metadata": {},
   "outputs": [],
   "source": [
    "prediction = knn.predict(X_test)"
   ]
  },
  {
   "cell_type": "code",
   "execution_count": 33,
   "id": "977d0978-b954-4e18-b04a-00c5c988ccd6",
   "metadata": {},
   "outputs": [
    {
     "name": "stdout",
     "output_type": "stream",
     "text": [
      "Accuracy :  1.0\n"
     ]
    }
   ],
   "source": [
    "print(\"Accuracy : \", accuracy_score(y_test, prediction))"
   ]
  },
  {
   "cell_type": "code",
   "execution_count": null,
   "id": "71af76b3-b23d-411d-8702-6510b516f9de",
   "metadata": {},
   "outputs": [],
   "source": []
  }
 ],
 "metadata": {
  "kernelspec": {
   "display_name": "Python 3 (ipykernel)",
   "language": "python",
   "name": "python3"
  },
  "language_info": {
   "codemirror_mode": {
    "name": "ipython",
    "version": 3
   },
   "file_extension": ".py",
   "mimetype": "text/x-python",
   "name": "python",
   "nbconvert_exporter": "python",
   "pygments_lexer": "ipython3",
   "version": "3.10.9"
  }
 },
 "nbformat": 4,
 "nbformat_minor": 5
}
